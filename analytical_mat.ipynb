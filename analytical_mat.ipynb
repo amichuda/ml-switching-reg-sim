{
 "cells": [
  {
   "cell_type": "code",
   "execution_count": 2,
   "metadata": {},
   "outputs": [],
   "source": [
    "import numpy as np\n",
    "from ml_switching_reg_sim.data_creation import MisclassificationCreator, UberDatasetCreator, UberDatasetCreatorHet\n",
    "from datetime import timedelta\n"
   ]
  },
  {
   "cell_type": "code",
   "execution_count": 34,
   "metadata": {},
   "outputs": [],
   "source": [
    "u = UberDatasetCreatorHet(drivers=1000, time_periods=30, regimes=2)\n",
    "\n",
    "df, mw, [beta0, beta1], y_sd = u.construct(\n",
    "    seed=1,\n",
    "    output_true_beta=True,\n",
    "    output_sigma=True,\n",
    "    y_sd = [1,1],\n",
    "    beta1 = [.1, .2],\n",
    "    beta0 = 1,\n",
    "    weight=0\n",
    "    )\n",
    "\n",
    "beta_regime_0 = np.array([beta0, beta1[0]])\n",
    "beta_regime_1 = np.array([beta0, beta1[1]])"
   ]
  },
  {
   "cell_type": "code",
   "execution_count": 7,
   "metadata": {},
   "outputs": [],
   "source": [
    "N = 1000\n",
    "rng = np.random.default_rng(seed=1)\n",
    "\n",
    "# X0 = rng.standard_normal(size=(N, 3))\n",
    "# X1 = rng.standard_normal(size=(N, 3))\n",
    "# W0 = np.concatenate([np.ones((N,1)), X0], axis=1) # add intercept\n",
    "# W1 = np.concatenate([np.ones((N,1)), X1], axis=1)\n",
    "# R = rng.choice([0,1],size=(N,1))\n",
    "# beta0 = np.array([[1,.1,.2,.3]]).T\n",
    "# beta1 = np.array([[.9,.2,.3,.4]]).T\n",
    "\n",
    "# W = ((1-R)*W0@beta0 + R*W1@beta1)\n",
    "\n",
    "# epsilon = rng.normal(size=(N,1))\n",
    "\n",
    "# y = W + epsilon\n",
    "\n",
    "# mw = MisclassificationCreator(regimes=2, seed=1)\n",
    "# extent = 0\n",
    "# pi = np.concatenate([mw.noisify_matrix(extent=extent, index=1), mw.noisify_matrix(extent=extent, index=0)], axis=0).reshape(2,2)\n",
    "\n",
    "R = df['regime'].values\n",
    "y = df['y'].values\n",
    "\n",
    "W0 = np.concatenate([np.ones((u.drivers*u.time_periods,1)), df['drought_0'].values.reshape(-1,1)], axis=1) # add intercept\n",
    "W1 = np.concatenate([np.ones((u.drivers*u.time_periods,1)), df['drought_1'].values.reshape(-1,1)], axis=1)\n",
    "\n",
    "RR0 = lambda i: ((1-R[i])*mw[0,0] + R[i]*mw[0,1])\n",
    "RR1 = lambda i: ((1-R[i])*mw[1,0] + R[i]*mw[1,1])\n"
   ]
  },
  {
   "cell_type": "code",
   "execution_count": 17,
   "metadata": {},
   "outputs": [],
   "source": [
    "def Pr(r, r_hat, pi, sigma2, y, W0, W1, beta0, beta1):\n",
    "    \n",
    "    regime_0 = np.exp(-(y-W0@beta0)**2/(2*sigma2))\n",
    "    regime_1 = np.exp(-(y-W1@beta1)**2/(2*sigma2))\n",
    "\n",
    "    F0 = pi[0,0]*regime_0 + pi[1,0]*regime_1\n",
    "    F1 = pi[0,1]*regime_0 + pi[1,1]*regime_1\n",
    "    \n",
    "    if r==0 and r_hat==0:\n",
    "        return pi[0,0]*regime_0/F0\n",
    "    elif r==0 and r_hat==1:\n",
    "        return pi[1,0]*regime_1/F0\n",
    "    elif r==1 and r_hat==0:\n",
    "        return pi[0,1]*regime_0/F1\n",
    "    elif r==1 and r_hat==1:\n",
    "        return pi[1,1]*regime_1/F1\n",
    "    else:\n",
    "        return 0\n",
    "    \n",
    "    \n",
    "    \n",
    "    \n",
    "    "
   ]
  },
  {
   "cell_type": "code",
   "execution_count": 9,
   "metadata": {},
   "outputs": [
    {
     "name": "stdout",
     "output_type": "stream",
     "text": [
      "[0.98778266 0.09536444]\n",
      "[0.98334083 0.1920972 ]\n"
     ]
    }
   ],
   "source": [
    "num0 = 0\n",
    "denom0 = 0\n",
    "\n",
    "num1 = 0\n",
    "denom1 = 0\n",
    "\n",
    "for i in range(u.drivers*u.time_periods):\n",
    "    num0 += RR0(i)*(W0[i].T * y[i])\n",
    "    denom0 += RR0(i)*(W0[i][np.newaxis, :].T @ W0[i][np.newaxis, :])\n",
    "    \n",
    "    num1 += RR1(i)*(W1[i].T * y[i])\n",
    "    denom1 += RR1(i)*(W1[i][np.newaxis, :].T @ W1[i][np.newaxis, :])\n",
    "    \n",
    "print(np.linalg.inv(denom0) @ num0)\n",
    "print(np.linalg.inv(denom1) @ num1)"
   ]
  },
  {
   "cell_type": "markdown",
   "metadata": {},
   "source": [
    "## Now with Matrices"
   ]
  },
  {
   "cell_type": "code",
   "execution_count": 12,
   "metadata": {},
   "outputs": [
    {
     "data": {
      "text/plain": [
       "array([[1, 0, 0, ..., 0, 0, 0],\n",
       "       [0, 1, 0, ..., 0, 0, 0],\n",
       "       [0, 0, 1, ..., 0, 0, 0],\n",
       "       ...,\n",
       "       [0, 0, 0, ..., 0, 0, 0],\n",
       "       [0, 0, 0, ..., 0, 0, 0],\n",
       "       [0, 0, 0, ..., 0, 0, 0]])"
      ]
     },
     "execution_count": 12,
     "metadata": {},
     "output_type": "execute_result"
    }
   ],
   "source": [
    "np.diag(R)\n"
   ]
  },
  {
   "cell_type": "code",
   "execution_count": 14,
   "metadata": {},
   "outputs": [],
   "source": [
    "R1_mat = np.diag(RR1(range(u.drivers*u.time_periods)).flatten())\n",
    "R0_mat = np.diag(RR0(range(u.drivers*u.time_periods)).flatten())"
   ]
  },
  {
   "cell_type": "code",
   "execution_count": 15,
   "metadata": {},
   "outputs": [
    {
     "data": {
      "text/plain": [
       "array([0.98334083, 0.1920972 ])"
      ]
     },
     "execution_count": 15,
     "metadata": {},
     "output_type": "execute_result"
    }
   ],
   "source": [
    "np.linalg.inv(W1.T @ R1_mat @ W1) @ (W1.T @ R1_mat @ y)\n"
   ]
  },
  {
   "cell_type": "code",
   "execution_count": 16,
   "metadata": {},
   "outputs": [
    {
     "data": {
      "text/plain": [
       "array([0.98778266, 0.09536444])"
      ]
     },
     "execution_count": 16,
     "metadata": {},
     "output_type": "execute_result"
    }
   ],
   "source": [
    "np.linalg.inv(W0.T @ R0_mat @ W0) @ (W0.T @ R0_mat @ y)"
   ]
  },
  {
   "cell_type": "markdown",
   "metadata": {},
   "source": [
    "## Using IRLS\n",
    "\n"
   ]
  },
  {
   "cell_type": "code",
   "execution_count": null,
   "metadata": {},
   "outputs": [],
   "source": [
    "RR0 = lambda i: ((1-R[i])*mw[0,0] + R[i]*mw[0,1])\n",
    "RR1 = lambda i: ((1-R[i])*mw[1,0] + R[i]*mw[1,1])"
   ]
  }
 ],
 "metadata": {
  "kernelspec": {
   "display_name": ".venv",
   "language": "python",
   "name": "python3"
  },
  "language_info": {
   "codemirror_mode": {
    "name": "ipython",
    "version": 3
   },
   "file_extension": ".py",
   "mimetype": "text/x-python",
   "name": "python",
   "nbconvert_exporter": "python",
   "pygments_lexer": "ipython3",
   "version": "3.9.18"
  }
 },
 "nbformat": 4,
 "nbformat_minor": 2
}
